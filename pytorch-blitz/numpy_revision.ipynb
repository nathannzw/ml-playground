{
 "cells": [
  {
   "cell_type": "markdown",
   "id": "a25c22b0",
   "metadata": {},
   "source": [
    "# Numpy Revision"
   ]
  },
  {
   "cell_type": "code",
   "execution_count": 23,
   "id": "53630031",
   "metadata": {},
   "outputs": [],
   "source": [
    "import numpy as np"
   ]
  },
  {
   "cell_type": "code",
   "execution_count": 24,
   "id": "cc907615",
   "metadata": {},
   "outputs": [
    {
     "name": "stdout",
     "output_type": "stream",
     "text": [
      "(3,)\n",
      "(2, 2)\n",
      "int32\n",
      "int32\n"
     ]
    }
   ],
   "source": [
    "a = np.array([1, 2, 3])             # 1D array\n",
    "b = np.array([[1, 2], [3, 4]])      # 2D array\n",
    "print(a.shape)  # (3,)\n",
    "print(b.shape)  # (2, 2)\n",
    "print(a.dtype) # int32\n",
    "print(b.dtype) # int32"
   ]
  },
  {
   "cell_type": "markdown",
   "id": "f4991e1c",
   "metadata": {},
   "source": [
    "Indexing and Slicing"
   ]
  },
  {
   "cell_type": "code",
   "execution_count": 25,
   "id": "81645719",
   "metadata": {},
   "outputs": [
    {
     "name": "stdout",
     "output_type": "stream",
     "text": [
      "2\n",
      "[2 4]\n",
      "[3 4]\n"
     ]
    }
   ],
   "source": [
    "print(b[0, 1]) # first row, second column\n",
    "print(b[:, 1]) # all rows, second column\n",
    "print(b[1]) # second row"
   ]
  },
  {
   "cell_type": "markdown",
   "id": "20600d1f",
   "metadata": {},
   "source": [
    "Basic Operations"
   ]
  },
  {
   "cell_type": "code",
   "execution_count": 26,
   "id": "0d917c05",
   "metadata": {},
   "outputs": [
    {
     "name": "stdout",
     "output_type": "stream",
     "text": [
      "[5 7 9]\n",
      "[ 4 10 18]\n",
      "[1 4 9]\n",
      "32\n",
      "6\n",
      "2.0\n",
      "3\n",
      "1\n",
      "[1.         1.41421356 1.73205081]\n",
      "[ 2.71828183  7.3890561  20.08553692]\n",
      "[0.         0.69314718 1.09861229]\n",
      "[0.84147098 0.90929743 0.14112001]\n",
      "[0 2 4 6 8]\n",
      "[0.   0.25 0.5  0.75 1.  ]\n",
      "[[1. 0. 0.]\n",
      " [0. 1. 0.]\n",
      " [0. 0. 1.]]\n",
      "[[0. 0.]\n",
      " [0. 0.]]\n",
      "[[1. 1.]\n",
      " [1. 1.]]\n"
     ]
    }
   ],
   "source": [
    "x = np.array([1, 2, 3])\n",
    "y = np.array([4, 5, 6])\n",
    "\n",
    "print(x + y)  # Element-wise addition\n",
    "print(x * y)  # Element-wise multiplication\n",
    "print (x ** 2)  # Element-wise square\n",
    "print(np.dot(x, y))  # Dot product\n",
    "print(np.sum(x))  # Sum of elements\n",
    "print(np.mean(x))  # Mean of elements\n",
    "print(np.max(x))  # Maximum element\n",
    "print(np.min(x))  # Minimum element\n",
    "print(np.sqrt(x))  # Element-wise square root\n",
    "print(np.exp(x))  # Element-wise exponential\n",
    "print(np.log(x))  # Element-wise natural logarithm\n",
    "print(np.sin(x))  # Element-wise sine\n",
    "print(np.arange(0, 10, 2))  # Create an array with values from 0 to 10 with a step of 2\n",
    "print(np.linspace(0, 1, 5))  # Create an array with 5 values evenly spaced between 0 and 1\n",
    "print(np.eye(3))  # Create a 3x3 identity matrix\n",
    "print(np.zeros((2, 2)))  # Create a 2x2 array filled with zeros\n",
    "print(np.ones((2, 2)))  # Create a 2x2 array filled with ones  "
   ]
  },
  {
   "cell_type": "markdown",
   "id": "e026774f",
   "metadata": {},
   "source": [
    "Broadcasting (same rules as PyTorch)"
   ]
  },
  {
   "cell_type": "code",
   "execution_count": 27,
   "id": "21d1a01f",
   "metadata": {},
   "outputs": [
    {
     "name": "stdout",
     "output_type": "stream",
     "text": [
      "[[11 21]\n",
      " [12 22]\n",
      " [13 23]]\n",
      "(3, 2)\n",
      "int32\n"
     ]
    }
   ],
   "source": [
    "x = np.array([[1], [2], [3]])\n",
    "y = np.array([10, 20])\n",
    "print(x + y)  # Broadcasting: adds y to each row of x\n",
    "print((x + y).shape)\n",
    "print((x + y).dtype)  # Check the dtype after broadcasting"
   ]
  },
  {
   "cell_type": "markdown",
   "id": "a86bb45e",
   "metadata": {},
   "source": [
    "Reshaping, Transposing"
   ]
  },
  {
   "cell_type": "code",
   "execution_count": 28,
   "id": "c87eedd3",
   "metadata": {},
   "outputs": [
    {
     "name": "stdout",
     "output_type": "stream",
     "text": [
      "[[1 4]\n",
      " [2 5]\n",
      " [3 6]]\n",
      "[[1 2]\n",
      " [3 4]\n",
      " [5 6]]\n",
      "[1 2 3 4 5 6]\n"
     ]
    }
   ],
   "source": [
    "a = np.array([[1, 2, 3], [4, 5, 6]]) # shape (2, 3)\n",
    "print(a.T) # shape (3, 2)\n",
    "\n",
    "# Think of reshaping as flattening the array and then rearranging it\n",
    "b = a.reshape(3, 2)  # Reshape to (3, 2)\n",
    "print(b) \n",
    "\n",
    "c = a.flatten()  # Flatten the array to 1D\n",
    "print(c)  # shape (6,)"
   ]
  },
  {
   "cell_type": "markdown",
   "id": "5cb83636",
   "metadata": {},
   "source": [
    "Aggregations"
   ]
  },
  {
   "cell_type": "code",
   "execution_count": 29,
   "id": "f402eb16",
   "metadata": {},
   "outputs": [
    {
     "name": "stdout",
     "output_type": "stream",
     "text": [
      "21\n",
      "[5 7 9]\n",
      "[ 6 15]\n",
      "3.5 1.707825127659933 6\n"
     ]
    }
   ],
   "source": [
    "a = np.array([[1, 2, 3], [4, 5, 6]])\n",
    "\n",
    "print(np.sum(a))           # sum of all elements\n",
    "print(np.sum(a, axis=0))   # [5 7 9] sum across rows\n",
    "print(np.sum(a, axis=1))   # [6 15] sum across columns\n",
    "# Think of axis=0 as to obtain row vector and axis=1 to obtain column vector\n",
    "# PyTorch uses dim instead of axis for similar operations\n",
    "\n",
    "print(np.mean(a), np.std(a), np.max(a)) \n"
   ]
  },
  {
   "cell_type": "markdown",
   "id": "a925dede",
   "metadata": {},
   "source": [
    "Random Numbers"
   ]
  },
  {
   "cell_type": "code",
   "execution_count": 30,
   "id": "bb8850a7",
   "metadata": {},
   "outputs": [
    {
     "name": "stdout",
     "output_type": "stream",
     "text": [
      "[[0.37454012 0.95071431 0.73199394]\n",
      " [0.59865848 0.15601864 0.15599452]]\n",
      "[[ 1.57921282  0.76743473 -0.46947439]\n",
      " [ 0.54256004 -0.46341769 -0.46572975]]\n",
      "[[9 5 8]\n",
      " [0 9 2]]\n",
      "[[4 4 1]\n",
      " [3 5 3]]\n",
      "None\n"
     ]
    }
   ],
   "source": [
    "print(np.random.rand(2, 3))  # Create a 2x3 array with random values\n",
    "print(np.random.randn(2, 3))  # Create a 2x3 array with random values from a normal distribution\n",
    "print(np.random.randint(0, 10, (2, 3)))  # Create a 2x3 array with random integers between 0 and 10\n",
    "print(np.random.choice([1, 2, 3, 4, 5], size=(2, 3)))  # Create a 2x3 array with random choices from the list [1, 2, 3, 4, 5]  \n",
    "print(np.random.seed(42))  # Set a random seed for reproducibility"
   ]
  },
  {
   "cell_type": "markdown",
   "id": "7d309bfe",
   "metadata": {},
   "source": [
    "Masking and Filtering"
   ]
  },
  {
   "cell_type": "code",
   "execution_count": 31,
   "id": "964929e1",
   "metadata": {},
   "outputs": [
    {
     "name": "stdout",
     "output_type": "stream",
     "text": [
      "[4 5]\n",
      "[[False False]\n",
      " [ True  True]]\n",
      "[3 4]\n"
     ]
    }
   ],
   "source": [
    "x = np.array([1, 2, 3, 4, 5])\n",
    "print(x[x > 3])  # Select elements greater than 3\n",
    "\n",
    "a = np.array([[1, 2], [3, 4]])\n",
    "mask = a > 2\n",
    "print(mask)        # boolean array\n",
    "print(a[mask])     # [3 4]"
   ]
  },
  {
   "cell_type": "markdown",
   "id": "1ab81bc5",
   "metadata": {},
   "source": [
    "Conversion Between NumPy and PyTorch"
   ]
  },
  {
   "cell_type": "code",
   "execution_count": 32,
   "id": "34cc8faa",
   "metadata": {},
   "outputs": [
    {
     "name": "stdout",
     "output_type": "stream",
     "text": [
      "tensor([[1, 2],\n",
      "        [3, 4]], dtype=torch.int32)\n",
      "[[1 2]\n",
      " [3 4]]\n"
     ]
    }
   ],
   "source": [
    "import torch\n",
    "\n",
    "a = np.array([[1, 2], [3, 4]])\n",
    "t = torch.from_numpy(a)         # NumPy ➝ Torch\n",
    "a2 = t.numpy()                  # Torch ➝ NumPy\n",
    "\n",
    "print(t)  # Torch tensor\n",
    "print(a2)  # NumPy array converted back from Torch tensor\n"
   ]
  }
 ],
 "metadata": {
  "kernelspec": {
   "display_name": "ultralytics-env",
   "language": "python",
   "name": "python3"
  },
  "language_info": {
   "codemirror_mode": {
    "name": "ipython",
    "version": 3
   },
   "file_extension": ".py",
   "mimetype": "text/x-python",
   "name": "python",
   "nbconvert_exporter": "python",
   "pygments_lexer": "ipython3",
   "version": "3.11.9"
  }
 },
 "nbformat": 4,
 "nbformat_minor": 5
}
