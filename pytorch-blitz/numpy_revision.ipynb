{
 "cells": [
  {
   "cell_type": "markdown",
   "id": "a25c22b0",
   "metadata": {},
   "source": [
    "# Numpy Revision"
   ]
  },
  {
   "cell_type": "code",
   "execution_count": 2,
   "id": "53630031",
   "metadata": {},
   "outputs": [],
   "source": [
    "import numpy as np"
   ]
  },
  {
   "cell_type": "code",
   "execution_count": 3,
   "id": "cc907615",
   "metadata": {},
   "outputs": [
    {
     "name": "stdout",
     "output_type": "stream",
     "text": [
      "(3,)\n",
      "(2, 2)\n",
      "int32\n",
      "int32\n"
     ]
    }
   ],
   "source": [
    "a = np.array([1, 2, 3])             # 1D array\n",
    "b = np.array([[1, 2], [3, 4]])      # 2D array\n",
    "print(a.shape)  # (3,)\n",
    "print(b.shape)  # (2, 2)\n",
    "print(a.dtype) # int32\n",
    "print(b.dtype) # int32"
   ]
  },
  {
   "cell_type": "markdown",
   "id": "f4991e1c",
   "metadata": {},
   "source": [
    "Indexing and Slicing"
   ]
  },
  {
   "cell_type": "code",
   "execution_count": null,
   "id": "81645719",
   "metadata": {},
   "outputs": [
    {
     "name": "stdout",
     "output_type": "stream",
     "text": [
      "2\n",
      "[2 4]\n",
      "[3 4]\n"
     ]
    }
   ],
   "source": [
    "print(b[0, 1]) # first row, second column\n",
    "print(b[:, 1]) # all rows, second column\n",
    "print(b[1]) # second row"
   ]
  },
  {
   "cell_type": "markdown",
   "id": "20600d1f",
   "metadata": {},
   "source": [
    "Basic Operations"
   ]
  },
  {
   "cell_type": "markdown",
   "id": "0d917c05",
   "metadata": {},
   "source": [
    "x"
   ]
  }
 ],
 "metadata": {
  "kernelspec": {
   "display_name": "ultralytics-env",
   "language": "python",
   "name": "python3"
  },
  "language_info": {
   "codemirror_mode": {
    "name": "ipython",
    "version": 3
   },
   "file_extension": ".py",
   "mimetype": "text/x-python",
   "name": "python",
   "nbconvert_exporter": "python",
   "pygments_lexer": "ipython3",
   "version": "3.11.9"
  }
 },
 "nbformat": 4,
 "nbformat_minor": 5
}
