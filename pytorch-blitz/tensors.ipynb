{
 "cells": [
  {
   "cell_type": "markdown",
   "id": "dc47491d",
   "metadata": {},
   "source": [
    "# Exploring Tensors"
   ]
  },
  {
   "cell_type": "markdown",
   "id": "8adee1e6",
   "metadata": {},
   "source": [
    "## Imports"
   ]
  },
  {
   "cell_type": "code",
   "execution_count": null,
   "id": "3f82f28d",
   "metadata": {},
   "outputs": [],
   "source": [
    "import torch\n",
    "import numpy as np"
   ]
  },
  {
   "cell_type": "markdown",
   "id": "7b1c7a11",
   "metadata": {},
   "source": [
    "## Tensor Initialization  "
   ]
  },
  {
   "cell_type": "code",
   "execution_count": null,
   "id": "6605e3d9",
   "metadata": {},
   "outputs": [],
   "source": [
    "# Directly from data\n",
    "data = [[1, 2], [3, 4]]\n",
    "x_data = torch.tensor(data)\n",
    "\n",
    "# From a NumPy array\n",
    "np_array = np.array(data)\n",
    "np_tensor = torch.from_numpy(np_array)\n",
    "\n",
    "# From another tensor\n"
   ]
  }
 ],
 "metadata": {
  "kernelspec": {
   "display_name": "ultralytics-env",
   "language": "python",
   "name": "python3"
  },
  "language_info": {
   "name": "python",
   "version": "3.11.9"
  }
 },
 "nbformat": 4,
 "nbformat_minor": 5
}
