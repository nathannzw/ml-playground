{
 "cells": [
  {
   "cell_type": "markdown",
   "id": "55ccf98d",
   "metadata": {},
   "source": [
    "# Neural Networks Introduction"
   ]
  },
  {
   "cell_type": "markdown",
   "id": "a7bc7d64",
   "metadata": {},
   "source": [
    "A typical training procedure for a neural network is as follows:\n",
    "\n",
    "- Define the neural network that has some learnable parameters (or weights)\n",
    "- Iterate over a dataset of inputs\n",
    "- Process input through the network\n",
    "- Compute the loss (how far is the output from being correct)\n",
    "- Propagate gradients back into the network’s parameters\n",
    "- Update the weights of the network, typically using a simple update rule: weight = weight - learning_rate * gradient"
   ]
  },
  {
   "cell_type": "markdown",
   "id": "cd5e7e55",
   "metadata": {},
   "source": []
  },
  {
   "cell_type": "markdown",
   "id": "b9356a96",
   "metadata": {
    "vscode": {
     "languageId": "plaintext"
    }
   },
   "source": [
    "## Define the Network"
   ]
  },
  {
   "cell_type": "code",
   "execution_count": 15,
   "id": "c4a03f2f",
   "metadata": {},
   "outputs": [],
   "source": [
    "import torch\n",
    "import torch.nn as nn\n",
    "import torch.nn.functional as F"
   ]
  },
  {
   "cell_type": "code",
   "execution_count": 16,
   "id": "a288a830",
   "metadata": {},
   "outputs": [
    {
     "name": "stdout",
     "output_type": "stream",
     "text": [
      "Net(\n",
      "  (conv1): Conv2d(1, 6, kernel_size=(5, 5), stride=(1, 1))\n",
      "  (conv2): Conv2d(6, 16, kernel_size=(5, 5), stride=(1, 1))\n",
      "  (fc1): Linear(in_features=400, out_features=120, bias=True)\n",
      "  (fc2): Linear(in_features=120, out_features=84, bias=True)\n",
      "  (fc3): Linear(in_features=84, out_features=10, bias=True)\n",
      ")\n"
     ]
    }
   ],
   "source": [
    "class Net(nn.Module):\n",
    "    def __init__(self):\n",
    "        super(Net, self).__init__()  # Calls the parent's (nn.Module's) constructor (__init__ method)\n",
    "        # input grayscale image (single channel), 6 output channels, 5x5 conv kernel\n",
    "        self.conv1 = nn.Conv2d(1, 6, 5) # in_channels, out_channels, kernel_size\n",
    "        self.conv2 = nn.Conv2d(6, 16, 5)\n",
    "        \n",
    "        self.fc1 = nn.Linear(16 * 5 * 5, 120) # 5x5 from image dimensions, 120 is out_channels\n",
    "        self.fc2 = nn.Linear(120, 84)\n",
    "        self.fc3 = nn.Linear(84, 10)\n",
    "    \n",
    "    def forward(self, input): # backward is automatically defined using autograd\n",
    "        # Original image is 32x32\n",
    "        c1 = F.relu(self.conv1(input)) # Feature maps are 28x28\n",
    "        s2 = F.max_pool2d(c1, (2, 2)) # Feature maps become 14x14\n",
    "        c3 = F.relu(self.conv2(s2)) # Feature maps become 10x10\n",
    "        s4 = F.max_pool2d(c3, (2, 2)) # Feature maps become 5x5\n",
    "        s4 = torch.flatten(s4, 1) # Flatten the array to 1D, can use start_dim=1 if got batch size\n",
    "        f5 = F.relu(self.fc1(s4))\n",
    "        f6 = F.relu(self.fc2(f5))\n",
    "        output = self.fc3(f6) # No activation function because if using nn.CrossEntropyLoss, softmax is applied there already\n",
    "        return output\n",
    "\n",
    "net = Net()\n",
    "print(net)\n",
    "        "
   ]
  },
  {
   "cell_type": "markdown",
   "id": "e1bcfd08",
   "metadata": {},
   "source": [
    "Learnable Parameters:"
   ]
  },
  {
   "cell_type": "code",
   "execution_count": 17,
   "id": "8c46c713",
   "metadata": {},
   "outputs": [
    {
     "name": "stdout",
     "output_type": "stream",
     "text": [
      "10\n",
      "torch.Size([6, 1, 5, 5])\n"
     ]
    }
   ],
   "source": [
    "params = list(net.parameters())\n",
    "print(len(params)) # 2 conv and 3 fc layers, each has 1 weight and 1 bias tensor; (2+3)*2=10 distinct parameter tensors\n",
    "print(params[0].size()) # conv1's weights: out_channels, in_channels, kernel_height, kernel_width\n",
    "# height then width because no. of rows then no. of columns"
   ]
  },
  {
   "cell_type": "markdown",
   "id": "8445142a",
   "metadata": {},
   "source": [
    "Test the network:"
   ]
  },
  {
   "cell_type": "code",
   "execution_count": 18,
   "id": "5136df5c",
   "metadata": {},
   "outputs": [
    {
     "name": "stdout",
     "output_type": "stream",
     "text": [
      "tensor([[ 0.1370,  0.1243, -0.1146, -0.0983, -0.1272,  0.0617, -0.0869,  0.0115,\n",
      "         -0.1168, -0.0069]], grad_fn=<AddmmBackward0>)\n"
     ]
    }
   ],
   "source": [
    "input = torch.randn(1, 1, 32, 32) # drawn from standard normal distribution: batch_size, channels, height, width\n",
    "out = net(input)\n",
    "print(out)"
   ]
  },
  {
   "cell_type": "markdown",
   "id": "58139b48",
   "metadata": {},
   "source": [
    "Zero gradient buffers of all parameters and backpropagate with random gradients"
   ]
  },
  {
   "cell_type": "code",
   "execution_count": 19,
   "id": "006fc593",
   "metadata": {},
   "outputs": [],
   "source": [
    "net.zero_grad()\n",
    "out.backward(torch.rand(1, 10))"
   ]
  },
  {
   "cell_type": "markdown",
   "id": "c7678c6c",
   "metadata": {},
   "source": [
    "**torch.nn only supports mini-batches (e.g. nn.Conv2d will take 4D tensor of nSamples x nChannels x Height x Width).**\n",
    "\n",
    "**If have single sample, use input.unsqueeze(0) to add a fake batch dimension**"
   ]
  },
  {
   "cell_type": "markdown",
   "id": "8675a9ea",
   "metadata": {},
   "source": [
    "## Loss Function"
   ]
  },
  {
   "cell_type": "code",
   "execution_count": 20,
   "id": "34bba73c",
   "metadata": {},
   "outputs": [
    {
     "name": "stdout",
     "output_type": "stream",
     "text": [
      "tensor(1.1390, grad_fn=<MseLossBackward0>)\n"
     ]
    }
   ],
   "source": [
    "output = net(input)\n",
    "target = torch.randn(10) # dummy target with 10 values\n",
    "target = target.view(1, -1) # make same shape as output (same as unsqueeze(0))\n",
    "criterion = nn.MSELoss()\n",
    "\n",
    "loss = criterion(output, target)\n",
    "print(loss)"
   ]
  },
  {
   "cell_type": "code",
   "execution_count": 21,
   "id": "bc9ec9f6",
   "metadata": {},
   "outputs": [
    {
     "name": "stdout",
     "output_type": "stream",
     "text": [
      "<MseLossBackward0 object at 0x000001ED8630BEB0>\n",
      "<AddmmBackward0 object at 0x000001ED8630AC80>\n",
      "<AccumulateGrad object at 0x000001ED8630BEB0>\n"
     ]
    }
   ],
   "source": [
    "print(loss.grad_fn) # MSELoss\n",
    "print(loss.grad_fn.next_functions[0][0]) # Linear\n",
    "print(loss.grad_fn.next_functions[0][0].next_functions[0][0]) # ReLU"
   ]
  },
  {
   "cell_type": "markdown",
   "id": "9a02dd78",
   "metadata": {},
   "source": [
    "## Backpropagation"
   ]
  },
  {
   "cell_type": "code",
   "execution_count": 22,
   "id": "96c795a3",
   "metadata": {},
   "outputs": [
    {
     "name": "stdout",
     "output_type": "stream",
     "text": [
      "conv1.bias.grad before backward\n",
      "None\n",
      "conv1.bias.grad after backward\n",
      "tensor([ 0.0043, -0.0076,  0.0021,  0.0031, -0.0076, -0.0027])\n"
     ]
    }
   ],
   "source": [
    "net.zero_grad() # zeroes gradient buffers of all parameters\n",
    "\n",
    "print('conv1.bias.grad before backward')\n",
    "print(net.conv1.bias.grad)\n",
    "\n",
    "loss.backward()\n",
    "\n",
    "print('conv1.bias.grad after backward')\n",
    "print(net.conv1.bias.grad)"
   ]
  },
  {
   "cell_type": "markdown",
   "id": "d155d20d",
   "metadata": {},
   "source": [
    "## Update the Weights"
   ]
  },
  {
   "cell_type": "markdown",
   "id": "5eaf8026",
   "metadata": {},
   "source": [
    "Manual Implementation:"
   ]
  },
  {
   "cell_type": "code",
   "execution_count": 23,
   "id": "d11a4af1",
   "metadata": {},
   "outputs": [
    {
     "data": {
      "text/plain": [
       "'\\n\\nlearning_rate = 0.01\\nfor f in net.parameters():\\n    f.data.sub_(f.grad.data * learning_rate) # basic SGD\\n    \\n'"
      ]
     },
     "execution_count": 23,
     "metadata": {},
     "output_type": "execute_result"
    }
   ],
   "source": [
    "'''\n",
    "\n",
    "learning_rate = 0.01\n",
    "for f in net.parameters():\n",
    "    f.data.sub_(f.grad.data * learning_rate) # basic SGD\n",
    "    \n",
    "'''    "
   ]
  },
  {
   "cell_type": "markdown",
   "id": "af0383b9",
   "metadata": {},
   "source": [
    "Using Package:"
   ]
  },
  {
   "cell_type": "code",
   "execution_count": 24,
   "id": "bbe73a12",
   "metadata": {},
   "outputs": [],
   "source": [
    "import torch.optim as optim\n",
    "\n",
    "# Create optimizer\n",
    "optimizer = optim.SGD(net.parameters(), lr=0.01)\n",
    "\n",
    "# In training loop:\n",
    "optimizer.zero_grad() # zeroes gradient buffers\n",
    "output = net(input)\n",
    "loss = criterion(output, target)\n",
    "loss.backward()\n",
    "optimizer.step() # optimizer performs the param updates"
   ]
  }
 ],
 "metadata": {
  "kernelspec": {
   "display_name": "ultralytics-env",
   "language": "python",
   "name": "python3"
  },
  "language_info": {
   "codemirror_mode": {
    "name": "ipython",
    "version": 3
   },
   "file_extension": ".py",
   "mimetype": "text/x-python",
   "name": "python",
   "nbconvert_exporter": "python",
   "pygments_lexer": "ipython3",
   "version": "3.11.9"
  }
 },
 "nbformat": 4,
 "nbformat_minor": 5
}
