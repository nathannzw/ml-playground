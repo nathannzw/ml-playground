{
 "cells": [
  {
   "cell_type": "markdown",
   "id": "f5869c32",
   "metadata": {},
   "source": [
    "# Training a Classifier (CIFAR10)"
   ]
  },
  {
   "cell_type": "markdown",
   "id": "090a8da7",
   "metadata": {},
   "source": [
    "## Imports"
   ]
  },
  {
   "cell_type": "code",
   "execution_count": 9,
   "id": "89e079e6",
   "metadata": {},
   "outputs": [],
   "source": [
    "import torch\n",
    "import torchvision\n",
    "import torchvision.transforms as transforms\n",
    "import torchvision.datasets as datasets"
   ]
  },
  {
   "cell_type": "markdown",
   "id": "d1912dd8",
   "metadata": {},
   "source": [
    "## Data Loading"
   ]
  },
  {
   "cell_type": "markdown",
   "id": "16593466",
   "metadata": {},
   "source": [
    "The output of torchvision datasets are PILImage images of range [0, 1]. We transform them to Tensors of normalized range [-1, 1].\n",
    "\n",
    "The transform process also:\n",
    "1. Converts PIL image or NumPy array into PyTorch tensor.\n",
    "2. Changes data layout from (H, W, C) for PIL/NumPy to (C, H, W) for PyTorch."
   ]
  },
  {
   "cell_type": "code",
   "execution_count": 10,
   "id": "9a47cc0f",
   "metadata": {},
   "outputs": [
    {
     "name": "stdout",
     "output_type": "stream",
     "text": [
      "Files already downloaded and verified\n",
      "Files already downloaded and verified\n"
     ]
    }
   ],
   "source": [
    "transform = transforms.Compose(\n",
    "    [transforms.ToTensor(), transforms.Normalize((0.5, 0.5, 0.5), (0.5, 0.5, 0.5))] # mean, SD for each of the 3 channels\n",
    ")\n",
    "\n",
    "batch_size = 4\n",
    "\n",
    "trainset = datasets.CIFAR10(root='./data', train=True, \n",
    "                            download=True, transform=transform) # download training dataset\n",
    "trainloader = torch.utils.data.DataLoader(trainset, batch_size=batch_size, \n",
    "                                          shuffle=True, num_workers=2) # load in dataset: random shuffle sample order at beginning of each epoch, num_workers for multiprocessing\n",
    "\n",
    "testset = datasets.CIFAR10(root='./data', train=False, \n",
    "                            download=True, transform=transform) # download test dataset\n",
    "testloader = torch.utils.data.DataLoader(testset, batch_size=batch_size,\n",
    "                                         shuffle=False, num_workers=2)\n",
    "\n",
    "classes = ('plane', 'car', 'bird', 'cat',\n",
    "           'deer', 'dog', 'frog', 'horse', 'ship', 'truck') # define class names"
   ]
  },
  {
   "cell_type": "markdown",
   "id": "f150572e",
   "metadata": {},
   "source": [
    "Show some training samples:"
   ]
  },
  {
   "cell_type": "code",
   "execution_count": 11,
   "id": "59adc2ef",
   "metadata": {},
   "outputs": [
    {
     "data": {
      "image/png": "[encoded data removed]",
      "text/plain": [
       "<Figure size 640x480 with 1 Axes>"
      ]
     },
     "metadata": {},
     "output_type": "display_data"
    },
    {
     "name": "stdout",
     "output_type": "stream",
     "text": [
      "deer  dog   plane dog  \n"
     ]
    }
   ],
   "source": [
    "import matplotlib.pyplot as plt\n",
    "import numpy as np\n",
    "\n",
    "def imshow(img):\n",
    "    img = img / 2 + 0.5 # unnormalize (normalization is minus mean divide SD, so this is reverse process)\n",
    "    npimg = img.numpy()\n",
    "    plt.imshow(np.transpose(npimg, (1, 2, 0))) # matplotlib expects (H, W, C) not (C, H, W)\n",
    "    plt.show()\n",
    "    \n",
    "# Get some training images\n",
    "dataiter = iter(trainloader) # create iterator from DataLoader object trainloader to allow for stepping through by batch\n",
    "images, labels = next(dataiter) # fetches next available mini-batch from trainloader\n",
    "\n",
    "# Show images\n",
    "imshow(torchvision.utils.make_grid(images)) # utility function to make single grid image from batch of images\n",
    "\n",
    "# Print labels\n",
    "print(' '.join(f\"{classes[labels[j]]:5s}\" for j in range(batch_size))) # labels[j] gets numeric label, classes[] gets human-readable name, :5 for 5-character-wide alignment"
   ]
  },
  {
   "cell_type": "markdown",
   "id": "bc7e426d",
   "metadata": {},
   "source": [
    "## Network Definition"
   ]
  },
  {
   "cell_type": "code",
   "execution_count": 12,
   "id": "83fc645f",
   "metadata": {},
   "outputs": [],
   "source": [
    "import torch.nn as nn\n",
    "import torch.nn.functional as F\n",
    "\n",
    "class Net(nn.Module):\n",
    "    def __init__(self):\n",
    "        super().__init__() # Call parent class' constructor\n",
    "        self.conv1 = nn.Conv2d(3, 6, 5)\n",
    "        self.pool = nn.MaxPool2d(2, 2)\n",
    "        self.conv2 = nn.Conv2d(6, 16, 5)\n",
    "        self.fc1 = nn.Linear(16 * 5 * 5, 120)\n",
    "        self.fc2 = nn.Linear(120, 84)\n",
    "        self.fc3 = nn.Linear(84, 10)\n",
    "        \n",
    "    def forward(self, x):\n",
    "        x = self.pool(F.relu(self.conv1(x)))\n",
    "        x = self.pool(F.relu(self.conv2(x)))\n",
    "        x = torch.flatten(x, start_dim=1) # flatten everything except first dimension which is batch\n",
    "        x = F.relu(self.fc1(x))\n",
    "        x = F.relu(self.fc2(x))\n",
    "        output = self.fc3(x)\n",
    "        \n",
    "        return output\n",
    "\n",
    "net = Net()\n",
    "        "
   ]
  },
  {
   "cell_type": "markdown",
   "id": "da67234f",
   "metadata": {},
   "source": [
    "## Define Loss Function and Optimizer"
   ]
  },
  {
   "cell_type": "code",
   "execution_count": 13,
   "id": "5a10b3f0",
   "metadata": {},
   "outputs": [],
   "source": [
    "import torch.optim as optim\n",
    "criterion = nn.CrossEntropyLoss()\n",
    "optimizer = optim.SGD(net.parameters(), lr=1e-3, momentum=0.9)"
   ]
  },
  {
   "cell_type": "markdown",
   "id": "9caa9bc0",
   "metadata": {},
   "source": [
    "## Train the Network\n",
    "\n",
    "Loop over data iterator, feed inputs to network and optimize"
   ]
  },
  {
   "cell_type": "code",
   "execution_count": 14,
   "id": "089a8670",
   "metadata": {},
   "outputs": [
    {
     "name": "stdout",
     "output_type": "stream",
     "text": [
      "[1,  2000] loss: 2.183\n",
      "[1,  4000] loss: 1.826\n",
      "[1,  6000] loss: 1.678\n",
      "[1,  8000] loss: 1.572\n",
      "[1, 10000] loss: 1.499\n",
      "[1, 12000] loss: 1.470\n",
      "[2,  2000] loss: 1.414\n",
      "[2,  4000] loss: 1.374\n",
      "[2,  6000] loss: 1.348\n",
      "[2,  8000] loss: 1.321\n",
      "[2, 10000] loss: 1.287\n",
      "[2, 12000] loss: 1.274\n",
      "Finished Training!\n"
     ]
    }
   ],
   "source": [
    "for epoch in range (2): # 2 epochs\n",
    "    \n",
    "    running_loss = 0.0\n",
    "    \n",
    "    for i, data in enumerate(trainloader, 0): # for each mini-batch\n",
    "        \n",
    "        # Unpack data which is a list of [inputs, labels]\n",
    "        inputs, labels =  data \n",
    "        \n",
    "        # Zero gradient buffers of model parameters because autograd accumulates them\n",
    "        optimizer.zero_grad() # can also call net.zero_grad() but less preferable\n",
    "        \n",
    "        # forward pass ->  calculate loss -> backward pass -> optimize\n",
    "        outputs = net(inputs) # get predictions via forward pass\n",
    "        loss = criterion(outputs, labels)\n",
    "        loss.backward() # backward pass and populate .grad attributes\n",
    "        optimizer.step() # optimizer update weights in-place by accessing stored .grad attributes\n",
    "        \n",
    "        # Print Statistics\n",
    "        running_loss += loss.item()\n",
    "        if i % 2000 == 1999: # print every 2000 mini-batches\n",
    "            print(f'[{epoch + 1}, {i + 1:5d}] loss: {running_loss / 2000:.3f}')\n",
    "            running_loss = 0.0 # reset running_loss after 2000 mini-batches\n",
    "            \n",
    "print('Finished Training!')"
   ]
  },
  {
   "cell_type": "markdown",
   "id": "3150b9df",
   "metadata": {},
   "source": [
    "## Save the Model\n",
    "\n",
    "More information about saving models: https://docs.pytorch.org/docs/stable/notes/serialization.html"
   ]
  },
  {
   "cell_type": "code",
   "execution_count": 15,
   "id": "030185d1",
   "metadata": {},
   "outputs": [],
   "source": [
    "PATH = './cifar_net_pth'\n",
    "torch.save(net.state_dict(), PATH)"
   ]
  },
  {
   "cell_type": "markdown",
   "id": "467daca7",
   "metadata": {},
   "source": [
    "## Test Network on Test Data (Inference)"
   ]
  },
  {
   "cell_type": "code",
   "execution_count": 17,
   "id": "ebf66ae9",
   "metadata": {},
   "outputs": [
    {
     "data": {
      "image/png": "[encoded data removed]",
      "text/plain": [
       "<Figure size 640x480 with 1 Axes>"
      ]
     },
     "metadata": {},
     "output_type": "display_data"
    },
    {
     "name": "stdout",
     "output_type": "stream",
     "text": [
      "Ground Truth:  cat   ship  ship  plane\n"
     ]
    }
   ],
   "source": [
    "dataiter = iter(testloader)\n",
    "images, labels = next(dataiter)\n",
    "\n",
    "# Print Images\n",
    "imshow(torchvision.utils.make_grid(images))\n",
    "print('Ground Truth: ', ' '.join(f'{classes[labels[j]]:5s}' for j in range(4)))\n",
    "\n",
    "# Note that these 4 samples are same as PyTorch docs because no shuffle for test set"
   ]
  },
  {
   "cell_type": "markdown",
   "id": "cb602c7e",
   "metadata": {},
   "source": [
    "Reload model (unnecessary but for illustration purposes):\n",
    "\n",
    "**Use weights_only=True for safer loading, especially from untrusted sources, as it prevents execution of potentially malicious code serialized with the model.**"
   ]
  },
  {
   "cell_type": "code",
   "execution_count": 18,
   "id": "76dd5f71",
   "metadata": {},
   "outputs": [
    {
     "data": {
      "text/plain": [
       "<All keys matched successfully>"
      ]
     },
     "execution_count": 18,
     "metadata": {},
     "output_type": "execute_result"
    }
   ],
   "source": [
    "net = Net()\n",
    "net.load_state_dict(torch.load(PATH, weights_only=True))"
   ]
  },
  {
   "cell_type": "code",
   "execution_count": null,
   "id": "13e6a37d",
   "metadata": {},
   "outputs": [
    {
     "name": "stdout",
     "output_type": "stream",
     "text": [
      "tensor([[-0.8416, -2.0160,  0.7194,  2.1654, -0.3780,  1.0238,  1.2822, -0.8990,\n",
      "          0.1406, -1.4867],\n",
      "        [ 4.4724,  6.3853, -2.7062, -2.6345, -2.6949, -4.2033, -3.3356, -4.5929,\n",
      "          6.4995,  2.9371],\n",
      "        [ 2.2460,  0.2424,  0.3827, -0.3642, -0.4857, -1.2474, -1.9317, -1.2040,\n",
      "          1.7007,  0.4872],\n",
      "        [ 3.5394,  1.7560, -0.2373, -1.0651, -1.3581, -2.7691, -2.3125, -2.6995,\n",
      "          4.3088,  0.5557]], grad_fn=<AddmmBackward0>)\n"
     ]
    }
   ],
   "source": [
    "outputs = net(images) # obtain predictions with forward pass, shape is (batch_size, num_classes)\n",
    "\n",
    "print(outputs) # predicted energies of each class for the 4 test images (higher means model thinks image is of particular class)"
   ]
  },
  {
   "cell_type": "code",
   "execution_count": null,
   "id": "2dc0752a",
   "metadata": {},
   "outputs": [
    {
     "name": "stdout",
     "output_type": "stream",
     "text": [
      "Max values:  tensor([2.1654, 6.4995, 2.2460, 4.3088], grad_fn=<MaxBackward0>)\n",
      "Predicted indices:  tensor([3, 8, 0, 8])\n",
      "Predicted:  cat   ship  plane ship \n"
     ]
    }
   ],
   "source": [
    "# Get max score for each row; REMEMBER dim=1 is like obtaining a column vector\n",
    "_, predicted = torch.max(outputs, dim=1) # torch.max returns 2 tensors: 1 containing max values, 1 containing indices of those max values\n",
    "print('Max values: ', _)\n",
    "print('Predicted indices: ', predicted)\n",
    "\n",
    "print('Predicted: ', ' '.join(f'{classes[predicted[j]]:5s}' # refer back to the original classes definition list. predicted[j] gives index of max value for that row (image)\n",
    "                              for j in range(4)))"
   ]
  },
  {
   "cell_type": "markdown",
   "id": "7fdcfcd5",
   "metadata": {},
   "source": [
    "Now test on whole dataset instead of just that 4 images from a single mini-batch:"
   ]
  },
  {
   "cell_type": "code",
   "execution_count": 26,
   "id": "c9b43a79",
   "metadata": {},
   "outputs": [
    {
     "name": "stdout",
     "output_type": "stream",
     "text": [
      "Accuracy of the network on the 10000 test images: 55 %\n"
     ]
    }
   ],
   "source": [
    "correct = 0 # Initialize counter for correctly predicted samples\n",
    "total = 0   # Initialize counter for total samples processed\n",
    "\n",
    "# Disable gradient calculation for inference (saves memory and computation)\n",
    "with torch.no_grad():\n",
    "    # Iterate over each mini-batch in the test dataset\n",
    "    for data in testloader:\n",
    "        images, labels = data # Unpack images and their true labels from the batch\n",
    "\n",
    "        # Perform a forward pass to get model predictions (logits/energies)\n",
    "        outputs = net(images)\n",
    "\n",
    "        # Get the predicted class: find the index of the highest logit for each sample\n",
    "        _, predicted = torch.max(outputs, 1)\n",
    "\n",
    "        total += labels.size(0) # Add the number of samples in the current batch to total count; size(0) is batch_size\n",
    "        correct += (predicted == labels).sum().item() # Count correct predictions and add to total correct; true is treated as 1; .item converts single-element tensor to standard integer\n",
    "\n",
    "# Calculate and print the final accuracy percentage\n",
    "print(f'Accuracy of the network on the 10000 test images: {100 * correct // total} %')\n"
   ]
  },
  {
   "cell_type": "markdown",
   "id": "34ac5e7e",
   "metadata": {},
   "source": [
    "Check class-specific performance:"
   ]
  },
  {
   "cell_type": "code",
   "execution_count": null,
   "id": "095d801d",
   "metadata": {},
   "outputs": [
    {
     "name": "stdout",
     "output_type": "stream",
     "text": [
      "Accuracy for class: plane is 57.7 %\n",
      "Accuracy for class: car   is 69.3 %\n",
      "Accuracy for class: bird  is 48.8 %\n",
      "Accuracy for class: cat   is 26.7 %\n",
      "Accuracy for class: deer  is 51.8 %\n",
      "Accuracy for class: dog   is 49.5 %\n",
      "Accuracy for class: frog  is 62.8 %\n",
      "Accuracy for class: horse is 68.0 %\n",
      "Accuracy for class: ship  is 61.0 %\n",
      "Accuracy for class: truck is 59.5 %\n"
     ]
    }
   ],
   "source": [
    "# prepare to count predictions for each class\n",
    "correct_pred = {classname: 0 for classname in classes} # initialize correct dict with classname->0 pairs\n",
    "total_pred = {classname: 0 for classname in classes} # initialize total pred dict with classname->0 pairs\n",
    "\n",
    "# again no gradients needed\n",
    "with torch.no_grad():\n",
    "    for data in testloader:\n",
    "        images, labels = data # REMEMBER labels is in form of indices NOT string\n",
    "        outputs = net(images)\n",
    "        _, predictions = torch.max(outputs, 1)\n",
    "        # collect the correct predictions for each class\n",
    "        for label, prediction in zip(labels, predictions):\n",
    "            if label == prediction:\n",
    "                correct_pred[classes[label]] += 1\n",
    "            total_pred[classes[label]] += 1\n",
    "\n",
    "\n",
    "# print accuracy for each class\n",
    "for classname, correct_count in correct_pred.items():\n",
    "    accuracy = 100 * float(correct_count) / total_pred[classname]\n",
    "    print(f'Accuracy for class: {classname:5s} is {accuracy:.1f} %')\n"
   ]
  },
  {
   "cell_type": "markdown",
   "id": "0571a226",
   "metadata": {},
   "source": [
    "## Training on GPU (not enabled in this example)\n",
    "\n",
    "**Must initialize GPU device and send model and data (inputs and labels) to it if using**"
   ]
  },
  {
   "cell_type": "code",
   "execution_count": 28,
   "id": "0e1995bf",
   "metadata": {},
   "outputs": [
    {
     "name": "stdout",
     "output_type": "stream",
     "text": [
      "cpu\n"
     ]
    }
   ],
   "source": [
    "device = torch.device('cuda:0' if torch.cuda.is_available() else 'cpu')\n",
    "print(device)"
   ]
  },
  {
   "cell_type": "markdown",
   "id": "eb074657",
   "metadata": {},
   "source": [
    "Send model to GPU"
   ]
  },
  {
   "cell_type": "code",
   "execution_count": 29,
   "id": "7c0b7701",
   "metadata": {},
   "outputs": [
    {
     "data": {
      "text/plain": [
       "Net(\n",
       "  (conv1): Conv2d(3, 6, kernel_size=(5, 5), stride=(1, 1))\n",
       "  (pool): MaxPool2d(kernel_size=2, stride=2, padding=0, dilation=1, ceil_mode=False)\n",
       "  (conv2): Conv2d(6, 16, kernel_size=(5, 5), stride=(1, 1))\n",
       "  (fc1): Linear(in_features=400, out_features=120, bias=True)\n",
       "  (fc2): Linear(in_features=120, out_features=84, bias=True)\n",
       "  (fc3): Linear(in_features=84, out_features=10, bias=True)\n",
       ")"
      ]
     },
     "execution_count": 29,
     "metadata": {},
     "output_type": "execute_result"
    }
   ],
   "source": [
    "net.to(device)"
   ]
  },
  {
   "cell_type": "markdown",
   "id": "9cfc5b9f",
   "metadata": {},
   "source": [
    "Send data to GPU also (both inputs and labels)"
   ]
  },
  {
   "cell_type": "code",
   "execution_count": null,
   "id": "63ffbf02",
   "metadata": {},
   "outputs": [],
   "source": [
    "inputs, labels = data[0].to(device), data[1].to(device)"
   ]
  }
 ],
 "metadata": {
  "kernelspec": {
   "display_name": "ultralytics-env",
   "language": "python",
   "name": "python3"
  },
  "language_info": {
   "codemirror_mode": {
    "name": "ipython",
    "version": 3
   },
   "file_extension": ".py",
   "mimetype": "text/x-python",
   "name": "python",
   "nbconvert_exporter": "python",
   "pygments_lexer": "ipython3",
   "version": "3.11.9"
  }
 },
 "nbformat": 4,
 "nbformat_minor": 5
}
